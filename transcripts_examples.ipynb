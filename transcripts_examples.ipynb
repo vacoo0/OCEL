{
 "cells": [
  {
   "cell_type": "markdown",
   "metadata": {},
   "source": [
    "### Importing libraries"
   ]
  },
  {
   "cell_type": "code",
   "execution_count": 1,
   "metadata": {},
   "outputs": [],
   "source": [
    "from youtube_transcript_api import YouTubeTranscriptApi\n",
    "import re\n"
   ]
  },
  {
   "cell_type": "markdown",
   "metadata": {},
   "source": [
    "### Downloading transcripts"
   ]
  },
  {
   "cell_type": "code",
   "execution_count": 2,
   "metadata": {},
   "outputs": [
    {
     "data": {
      "text/plain": [
       "<youtube_transcript_api._transcripts.TranscriptList at 0x258840d9190>"
      ]
     },
     "execution_count": 2,
     "metadata": {},
     "output_type": "execute_result"
    }
   ],
   "source": [
    "transcript_list = YouTubeTranscriptApi.list_transcripts('YaQEaf92z00')\n",
    "transcript_list"
   ]
  },
  {
   "cell_type": "code",
   "execution_count": 3,
   "metadata": {},
   "outputs": [
    {
     "data": {
      "text/plain": [
       "<youtube_transcript_api._transcripts.Transcript at 0x258843710d0>"
      ]
     },
     "execution_count": 3,
     "metadata": {},
     "output_type": "execute_result"
    }
   ],
   "source": [
    "transcript = transcript_list.find_transcript(['en'])\n",
    "transcript"
   ]
  },
  {
   "cell_type": "markdown",
   "metadata": {},
   "source": [
    "### Printing transcript"
   ]
  },
  {
   "cell_type": "code",
   "execution_count": 4,
   "metadata": {},
   "outputs": [
    {
     "data": {
      "text/plain": [
       "[{'text': '[Music]', 'start': 0.08, 'duration': 3.129},\n",
       " {'text': 'Aloha and welcome with a cocktail spirit',\n",
       "  'start': 7.98,\n",
       "  'duration': 4.39},\n",
       " {'text': 'from a small screen Network', 'start': 11.02, 'duration': 5.279},\n",
       " {'text': \"I'm your host Robert house now everyone\",\n",
       "  'start': 12.37,\n",
       "  'duration': 5.13},\n",
       " {'text': 'has heard as a pina colada', 'start': 16.299, 'duration': 3.931},\n",
       " {'text': \"everyone's had a pina colada that frosty\",\n",
       "  'start': 17.5,\n",
       "  'duration': 5.1},\n",
       " {'text': 'icy drink with coconut and pineapple and',\n",
       "  'start': 20.23,\n",
       "  'duration': 4.68},\n",
       " {'text': \"rum and quite frankly it's one of those\",\n",
       "  'start': 22.6,\n",
       "  'duration': 3.96},\n",
       " {'text': 'drinks that a lot of places actually',\n",
       "  'start': 24.91,\n",
       "  'duration': 3.48},\n",
       " {'text': 'make properly unlike most of the exotic',\n",
       "  'start': 26.56,\n",
       "  'duration': 4.26},\n",
       " {'text': \"drinks so let's take a look exactly what\",\n",
       "  'start': 28.39,\n",
       "  'duration': 5.54},\n",
       " {'text': 'it takes to make a pina colada now I',\n",
       "  'start': 30.82,\n",
       "  'duration': 6.93},\n",
       " {'text': \"don't normally use a blender here of the\",\n",
       "  'start': 33.93,\n",
       "  'duration': 5.8},\n",
       " {'text': \"cocktail spirit but for this drink it's\",\n",
       "  'start': 37.75,\n",
       "  'duration': 4.32},\n",
       " {'text': 'a requirement and unlike most of other',\n",
       "  'start': 39.73,\n",
       "  'duration': 4.079},\n",
       " {'text': 'drinks that use a blender the blender',\n",
       "  'start': 42.07,\n",
       "  'duration': 3.629},\n",
       " {'text': 'was designed for this drinks but I mean',\n",
       "  'start': 43.809,\n",
       "  'duration': 3.361},\n",
       " {'text': 'the drink was designed for the blender',\n",
       "  'start': 45.699,\n",
       "  'duration': 3.571},\n",
       " {'text': 'rather than the drink being a normal',\n",
       "  'start': 47.17,\n",
       "  'duration': 4.17},\n",
       " {'text': 'cocktail that someone threw in a blender',\n",
       "  'start': 49.27,\n",
       "  'duration': 3.809},\n",
       " {'text': 'to make it taste like a slushie so the',\n",
       "  'start': 51.34,\n",
       "  'duration': 3.239},\n",
       " {'text': 'blender is an important ingredient here',\n",
       "  'start': 53.079,\n",
       "  'duration': 3.721},\n",
       " {'text': 'this particular bar blender here we have',\n",
       "  'start': 54.579,\n",
       "  'duration': 5.94},\n",
       " {'text': 'from keg works calm now the drink starts',\n",
       "  'start': 56.8,\n",
       "  'duration': 7.829},\n",
       " {'text': \"out with a white rum we're going to use\",\n",
       "  'start': 60.519,\n",
       "  'duration': 7.531},\n",
       " {'text': 'two ounces of Bacardi white rum in this',\n",
       "  'start': 64.629,\n",
       "  'duration': 10.911},\n",
       " {'text': \"drink we're they're going to add an\",\n",
       "  'start': 68.05,\n",
       "  'duration': 17.01},\n",
       " {'text': 'ounce of Coco Lopez coconut cream and an',\n",
       "  'start': 75.54,\n",
       "  'duration': 13.11},\n",
       " {'text': 'ounce of heavy cream', 'start': 85.06, 'duration': 3.59},\n",
       " {'text': '[Music]', 'start': 92.99, 'duration': 4.33},\n",
       " {'text': 'we get all that creamy goodness out of',\n",
       "  'start': 94.32,\n",
       "  'duration': 11.43},\n",
       " {'text': 'there we use a six ounces of pineapple',\n",
       "  'start': 97.32,\n",
       "  'duration': 10.62},\n",
       " {'text': 'juice thankfully this can actually has',\n",
       "  'start': 105.75,\n",
       "  'duration': 4.11},\n",
       " {'text': \"six ounces in it so I don't need to\",\n",
       "  'start': 107.94,\n",
       "  'duration': 9.27},\n",
       " {'text': 'measure and we add about four ounces of',\n",
       "  'start': 109.86,\n",
       "  'duration': 9.09},\n",
       " {'text': 'ice or you know about the same as we',\n",
       "  'start': 117.21,\n",
       "  'duration': 17.7},\n",
       " {'text': 'have a scene here now we let the blender',\n",
       "  'start': 118.95,\n",
       "  'duration': 18.29},\n",
       " {'text': 'rip', 'start': 134.91, 'duration': 2.33},\n",
       " {'text': '[Music]', 'start': 137.53, 'duration': 9.12},\n",
       " {'text': \"let's see how this turned out you're\",\n",
       "  'start': 143.22,\n",
       "  'duration': 9.93},\n",
       " {'text': 'looking for is a frothy consistency okay',\n",
       "  'start': 146.65,\n",
       "  'duration': 6.5},\n",
       " {'text': 'now we pour that into our little',\n",
       "  'start': 154.95,\n",
       "  'duration': 15.94},\n",
       " {'text': 'hurricane glass garnish it with a',\n",
       "  'start': 159.94,\n",
       "  'duration': 17.04},\n",
       " {'text': 'pineapple and sherry and serve with a',\n",
       "  'start': 170.89,\n",
       "  'duration': 11.22},\n",
       " {'text': 'couple straws and there we have pina',\n",
       "  'start': 176.98,\n",
       "  'duration': 6.83},\n",
       " {'text': 'colada', 'start': 182.11, 'duration': 13.089},\n",
       " {'text': '[Music]', 'start': 183.81, 'duration': 11.389}]"
      ]
     },
     "execution_count": 4,
     "metadata": {},
     "output_type": "execute_result"
    }
   ],
   "source": [
    "transcript_list = transcript.fetch()\n",
    "transcript_list"
   ]
  },
  {
   "cell_type": "markdown",
   "metadata": {},
   "source": [
    "### Connecting transcript into one string"
   ]
  },
  {
   "cell_type": "code",
   "execution_count": 5,
   "metadata": {},
   "outputs": [
    {
     "data": {
      "text/plain": [
       "\"[Music]Aloha and welcome with a cocktail spiritfrom a small screen NetworkI'm your host Robert house now everyonehas heard as a pina coladaeveryone's had a pina colada that frostyicy drink with coconut and pineapple andrum and quite frankly it's one of thosedrinks that a lot of places actuallymake properly unlike most of the exoticdrinks so let's take a look exactly whatit takes to make a pina colada now Idon't normally use a blender here of thecocktail spirit but for this drink it'sa requirement and unlike most of otherdrinks that use a blender the blenderwas designed for this drinks but I meanthe drink was designed for the blenderrather than the drink being a normalcocktail that someone threw in a blenderto make it taste like a slushie so theblender is an important ingredient herethis particular bar blender here we havefrom keg works calm now the drink startsout with a white rum we're going to usetwo ounces of Bacardi white rum in thisdrink we're they're going to add anounce of Coco Lopez coconut cream and anounce of heavy cream[Music]we get all that creamy goodness out ofthere we use a six ounces of pineapplejuice thankfully this can actually hassix ounces in it so I don't need tomeasure and we add about four ounces ofice or you know about the same as wehave a scene here now we let the blenderrip[Music]let's see how this turned out you'relooking for is a frothy consistency okaynow we pour that into our littlehurricane glass garnish it with apineapple and sherry and serve with acouple straws and there we have pinacolada[Music]\""
      ]
     },
     "execution_count": 5,
     "metadata": {},
     "output_type": "execute_result"
    }
   ],
   "source": [
    "text_list = []\n",
    "for dct in transcript_list:\n",
    "    text_list.append(dct['text'])\n",
    "\n",
    "\"\".join(text_list)"
   ]
  }
 ],
 "metadata": {
  "kernelspec": {
   "display_name": "Python 3",
   "language": "python",
   "name": "python3"
  },
  "language_info": {
   "codemirror_mode": {
    "name": "ipython",
    "version": 3
   },
   "file_extension": ".py",
   "mimetype": "text/x-python",
   "name": "python",
   "nbconvert_exporter": "python",
   "pygments_lexer": "ipython3",
   "version": "3.9.16"
  },
  "orig_nbformat": 4
 },
 "nbformat": 4,
 "nbformat_minor": 2
}
