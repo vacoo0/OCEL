{
 "cells": [
  {
   "cell_type": "code",
   "execution_count": 11,
   "metadata": {},
   "outputs": [],
   "source": [
    "from youtube_transcript_api import YouTubeTranscriptApi\n",
    "\n",
    "\n"
   ]
  },
  {
   "cell_type": "code",
   "execution_count": 12,
   "metadata": {},
   "outputs": [
    {
     "data": {
      "text/plain": [
       "<youtube_transcript_api._transcripts.TranscriptList at 0x2bc79581be0>"
      ]
     },
     "execution_count": 12,
     "metadata": {},
     "output_type": "execute_result"
    }
   ],
   "source": [
    "transcript_list = YouTubeTranscriptApi.list_transcripts('iNBTSDryewM')\n",
    "transcript_list"
   ]
  },
  {
   "cell_type": "code",
   "execution_count": 13,
   "metadata": {},
   "outputs": [
    {
     "data": {
      "text/plain": [
       "<youtube_transcript_api._transcripts.Transcript at 0x2bc79525bb0>"
      ]
     },
     "execution_count": 13,
     "metadata": {},
     "output_type": "execute_result"
    }
   ],
   "source": [
    "transcript = transcript_list.find_transcript(['en'])\n",
    "transcript"
   ]
  },
  {
   "cell_type": "code",
   "execution_count": 14,
   "metadata": {},
   "outputs": [
    {
     "data": {
      "text/plain": [
       "[{'text': \"let's make a cosmopolitan\", 'start': 0.719, 'duration': 3.741},\n",
       " {'text': 'in a cocktail shaker add two ounces 60',\n",
       "  'start': 4.56,\n",
       "  'duration': 5.16},\n",
       " {'text': 'mL of absolute Citron vodka', 'start': 7.02, 'duration': 5.1},\n",
       " {'text': 'one ounce 30 ml of Cointreau', 'start': 9.72, 'duration': 6.659},\n",
       " {'text': 'one ounce 30 ml of fresh lime juice',\n",
       "  'start': 12.12,\n",
       "  'duration': 8.36},\n",
       " {'text': 'and one ounce 30 ml of cranberry juice',\n",
       "  'start': 16.379,\n",
       "  'duration': 4.101},\n",
       " {'text': 'add plenty of ice and shake for 10 to 12',\n",
       "  'start': 20.64,\n",
       "  'duration': 3.29},\n",
       " {'text': 'seconds', 'start': 22.98, 'duration': 4.079},\n",
       " {'text': '[Music]', 'start': 23.93, 'duration': 3.129},\n",
       " {'text': 'double strain into a stemmed cocktail',\n",
       "  'start': 29.58,\n",
       "  'duration': 3.92},\n",
       " {'text': 'glass', 'start': 31.26, 'duration': 2.24},\n",
       " {'text': 'and garnish with a lemon peel', 'start': 34.2, 'duration': 3.74}]"
      ]
     },
     "execution_count": 14,
     "metadata": {},
     "output_type": "execute_result"
    }
   ],
   "source": [
    "transcript_list = transcript.fetch()\n",
    "transcript_list"
   ]
  },
  {
   "cell_type": "code",
   "execution_count": 15,
   "metadata": {},
   "outputs": [
    {
     "data": {
      "text/plain": [
       "[\"let's make a cosmopolitan\",\n",
       " 'in a cocktail shaker add two ounces 60',\n",
       " 'mL of absolute Citron vodka',\n",
       " 'one ounce 30 ml of Cointreau',\n",
       " 'one ounce 30 ml of fresh lime juice',\n",
       " 'and one ounce 30 ml of cranberry juice',\n",
       " 'add plenty of ice and shake for 10 to 12',\n",
       " 'seconds',\n",
       " '[Music]',\n",
       " 'double strain into a stemmed cocktail',\n",
       " 'glass',\n",
       " 'and garnish with a lemon peel']"
      ]
     },
     "execution_count": 15,
     "metadata": {},
     "output_type": "execute_result"
    }
   ],
   "source": [
    "text_list = []\n",
    "for dct in transcript_list:\n",
    "    text_list.append(dct['text'])\n",
    "\n",
    "text_list"
   ]
  },
  {
   "cell_type": "code",
   "execution_count": 16,
   "metadata": {},
   "outputs": [
    {
     "data": {
      "text/plain": [
       "\"let's make a cosmopolitan in a cocktail shaker add two ounces 60 mL of absolute Citron vodka one ounce 30 ml of Cointreau one ounce 30 ml of fresh lime juice and one ounce 30 ml of cranberry juice add plenty of ice and shake for 10 to 12 seconds [Music] double strain into a stemmed cocktail glass and garnish with a lemon peel \""
      ]
     },
     "execution_count": 16,
     "metadata": {},
     "output_type": "execute_result"
    }
   ],
   "source": [
    "text = \"\"\n",
    "for text_chunk in text_list:\n",
    "    text += text_chunk + \" \"\n",
    "\n",
    "text"
   ]
  },
  {
   "cell_type": "code",
   "execution_count": 2,
   "metadata": {},
   "outputs": [
    {
     "name": "stdout",
     "output_type": "stream",
     "text": [
      "YouTube video ID: dQw4w9WgXcQ\n"
     ]
    }
   ],
   "source": [
    "import re\n",
    "\n",
    "\n",
    "\n",
    "url = \"https://www.youtube.com/watch?v=dQw4w9WgXcQ\"\n",
    "video_id = extract_youtube_id(url)\n",
    "print(\"YouTube video ID:\", video_id)"
   ]
  }
 ],
 "metadata": {
  "kernelspec": {
   "display_name": "Python 3",
   "language": "python",
   "name": "python3"
  },
  "language_info": {
   "codemirror_mode": {
    "name": "ipython",
    "version": 3
   },
   "file_extension": ".py",
   "mimetype": "text/x-python",
   "name": "python",
   "nbconvert_exporter": "python",
   "pygments_lexer": "ipython3",
   "version": "3.9.16"
  },
  "orig_nbformat": 4
 },
 "nbformat": 4,
 "nbformat_minor": 2
}
